{
 "cells": [
  {
   "cell_type": "code",
   "execution_count": 1,
   "id": "d729c720",
   "metadata": {},
   "outputs": [],
   "source": [
    "import pandas as pd\n",
    "import os, types\n",
    "import io, requests\n",
    "import numpy as np\n",
    "from datetime import datetime\n",
    "import matplotlib.pyplot as plt"
   ]
  },
  {
   "cell_type": "markdown",
   "id": "c526c888-1627-470e-840d-a564af6557da",
   "metadata": {},
   "source": [
    "# Load data"
   ]
  },
  {
   "cell_type": "code",
   "execution_count": 2,
   "id": "1efabb55-b8ac-4953-ba23-bc8fc97b34dd",
   "metadata": {},
   "outputs": [],
   "source": [
    "ercot_hourly_df2 = pd.read_csv('./data/combined_load.csv')\n",
    "ercot_hourly_df2 = ercot_hourly_df2.fillna(method='ffill')\n",
    "ercot_hourly_df2['date_time'] = ercot_hourly_df2['Hour_Ending'].apply(lambda x: datetime.fromtimestamp(datetime.strptime(str(x), '%Y-%m-%d %H:%M:%S%z').timestamp()))\n",
    "\n",
    "ercot_hourly_df2 = ercot_hourly_df2.drop(['Hour_Ending'],axis=1)\n",
    "ercot_hourly_df2 = ercot_hourly_df2.set_index(['date_time'])"
   ]
  },
  {
   "cell_type": "code",
   "execution_count": 3,
   "id": "c1911ba7",
   "metadata": {},
   "outputs": [],
   "source": [
    "ercot_hourly_describe = ercot_hourly_df2.describe()"
   ]
  },
  {
   "cell_type": "code",
   "execution_count": 4,
   "id": "08f46dee",
   "metadata": {},
   "outputs": [
    {
     "data": {
      "text/plain": [
       "<AxesSubplot:>"
      ]
     },
     "execution_count": 4,
     "metadata": {},
     "output_type": "execute_result"
    },
    {
     "data": {
      "image/png": "[encoded data removed]",
      "text/plain": [
       "<Figure size 432x288 with 1 Axes>"
      ]
     },
     "metadata": {
      "needs_background": "light"
     },
     "output_type": "display_data"
    }
   ],
   "source": [
    "ercot_hourly_describe.plot.box()"
   ]
  },
  {
   "cell_type": "code",
   "execution_count": 5,
   "id": "00e61350",
   "metadata": {},
   "outputs": [
    {
     "data": {
      "text/html": [
       "<div>\n",
       "<style scoped>\n",
       "    .dataframe tbody tr th:only-of-type {\n",
       "        vertical-align: middle;\n",
       "    }\n",
       "\n",
       "    .dataframe tbody tr th {\n",
       "        vertical-align: top;\n",
       "    }\n",
       "\n",
       "    .dataframe thead th {\n",
       "        text-align: right;\n",
       "    }\n",
       "</style>\n",
       "<table border=\"1\" class=\"dataframe\">\n",
       "  <thead>\n",
       "    <tr style=\"text-align: right;\">\n",
       "      <th></th>\n",
       "      <th>Coast</th>\n",
       "      <th>East</th>\n",
       "      <th>Far West</th>\n",
       "      <th>North</th>\n",
       "      <th>North Central</th>\n",
       "      <th>South</th>\n",
       "      <th>South Central</th>\n",
       "      <th>West</th>\n",
       "    </tr>\n",
       "    <tr>\n",
       "      <th>date_time</th>\n",
       "      <th></th>\n",
       "      <th></th>\n",
       "      <th></th>\n",
       "      <th></th>\n",
       "      <th></th>\n",
       "      <th></th>\n",
       "      <th></th>\n",
       "      <th></th>\n",
       "    </tr>\n",
       "  </thead>\n",
       "  <tbody>\n",
       "  </tbody>\n",
       "</table>\n",
       "</div>"
      ],
      "text/plain": [
       "Empty DataFrame\n",
       "Columns: [Coast, East, Far West, North, North Central, South, South Central, West]\n",
       "Index: []"
      ]
     },
     "execution_count": 5,
     "metadata": {},
     "output_type": "execute_result"
    }
   ],
   "source": [
    "ercot_hourly_df2[ercot_hourly_df2.isna().any(axis=1)]"
   ]
  },
  {
   "cell_type": "markdown",
   "id": "6169c129-5db3-4895-904c-02dad84a45b3",
   "metadata": {},
   "source": [
    "## Feature engineering of load data"
   ]
  },
  {
   "cell_type": "code",
   "execution_count": 6,
   "id": "719d389a",
   "metadata": {},
   "outputs": [],
   "source": [
    "regions = ['Coast', 'East', 'Far West', 'North', 'North Central', 'South', 'South Central', 'West']"
   ]
  },
  {
   "cell_type": "code",
   "execution_count": 7,
   "id": "e1ba45db-fa70-4ecd-961f-6b63bc460f70",
   "metadata": {},
   "outputs": [],
   "source": [
    "starting_timestamp = '2008-07-01 00:00:00'\n",
    "ending_timestamp = '2021-06-19 23:00:00'\n",
    "ercot_hourly_hist = ercot_hourly_df2[pd.Timestamp(starting_timestamp):pd.Timestamp(ending_timestamp)]\n",
    "starting_timestamp = '2020-06-20 00:00:00'\n",
    "ending_timestamp = '2021-06-26 23:00:00'\n",
    "#ercot_hourly_future = ercot_hourly_df2[pd.Timestamp(starting_timestamp):pd.Timestamp(ending_timestamp)]"
   ]
  },
  {
   "cell_type": "code",
   "execution_count": 8,
   "id": "152de2fd-afb6-46bf-a723-2f41aa9bcef0",
   "metadata": {},
   "outputs": [],
   "source": [
    "def get_load_region(df, region):\n",
    "    load_df = df[region].reset_index()\n",
    "    load_df['year'] = load_df['date_time'].apply(lambda x: x.year)\n",
    "    load_df['month'] = load_df['date_time'].apply(lambda x: x.month)\n",
    "    load_df['day'] = load_df['date_time'].apply(lambda x: x.day)\n",
    "    load_df['hour'] = load_df['date_time'].apply(lambda x: x.hour)\n",
    "    #load_df['dayofyear'] = load_df['date_time'].apply(lambda x: x.dayofyear)\n",
    "    #load_df['weekofyear'] = load_df['date_time'].apply(lambda x: x.weekofyear)\n",
    "    load_df['weekday'] = load_df['date_time'].apply(lambda x: x.weekday())\n",
    "    load_df['load'] = load_df[region]\n",
    "    load_df = load_df.drop([region], axis=1)\n",
    "    load_df = load_df.set_index('date_time')\n",
    "    return load_df"
   ]
  },
  {
   "cell_type": "code",
   "execution_count": 9,
   "id": "8fbee0ee-6aee-4bc7-9441-0b49f592d3e3",
   "metadata": {},
   "outputs": [],
   "source": [
    "for region in regions:\n",
    "    load_df = get_load_region(ercot_hourly_hist, region)\n",
    "    load_df.to_csv('./data/hourly_load_'+region+'.csv', index=True)"
   ]
  },
  {
   "cell_type": "markdown",
   "id": "f0b0ed57-a96f-4fc5-a747-99291738ff7b",
   "metadata": {},
   "source": [
    "## Weather data: history and forecast"
   ]
  },
  {
   "cell_type": "code",
   "execution_count": 10,
   "id": "da288d0b",
   "metadata": {},
   "outputs": [],
   "source": [
    "weather_forecast_df = pd.read_csv('./data/weather_forecast.csv')\n",
    "weather_history_df = pd.read_csv('./data/weather_history.csv')"
   ]
  },
  {
   "cell_type": "code",
   "execution_count": 11,
   "id": "b25bf734",
   "metadata": {},
   "outputs": [
    {
     "data": {
      "text/plain": [
       "array(['Abilene', 'Austin', 'Brownsville', 'Corpus Christi', 'Dallas',\n",
       "       'Houston', 'Midland', 'San Antonio', 'Tyler', 'Wichita Falls'],\n",
       "      dtype=object)"
      ]
     },
     "execution_count": 11,
     "metadata": {},
     "output_type": "execute_result"
    }
   ],
   "source": [
    "cities = weather_forecast_df['city'].unique()\n",
    "cities"
   ]
  },
  {
   "cell_type": "code",
   "execution_count": 12,
   "id": "069bf076-fc7e-4ca7-9753-e8aca797be48",
   "metadata": {},
   "outputs": [],
   "source": [
    "time_dict = {0:'00:00:00', 300:'03:00:00', 600:'06:00:00', 900:'09:00:00',\n",
    "             1200:'12:00:00', 1500:'15:00:00', 1800:'18:00:00', 2100:'21:00:00'}"
   ]
  },
  {
   "cell_type": "code",
   "execution_count": 13,
   "id": "aeb394fb-0f6d-407e-a976-f9c775573d1f",
   "metadata": {},
   "outputs": [],
   "source": [
    "def weather_data_prepare(weather_df1):\n",
    "    weather_df1= weather_df1.replace({'time':time_dict})\n",
    "    weather_df1['date_time'] = weather_df1['date'] + ' ' + weather_df1['time']\n",
    "    weather_df1['date_time'] = pd.to_datetime(weather_df1['date_time'])\n",
    "    weather_df1['temp'] = weather_df1['tempC']\n",
    "    weather_df1['dwpt'] = weather_df1['DewPointC']\n",
    "    weather_df1['rhum'] = weather_df1['humidity']\n",
    "    weather_df1['prcp'] = weather_df1['precipMM']\n",
    "    weather_df1['wspd'] = weather_df1['windspeedKmph']\n",
    "    return weather_df1"
   ]
  },
  {
   "cell_type": "code",
   "execution_count": 14,
   "id": "ca1d1aac",
   "metadata": {},
   "outputs": [],
   "source": [
    "weather_forecast_df = weather_data_prepare(weather_forecast_df)\n",
    "weather_forecast_df = weather_forecast_df.set_index('date_time')\n",
    "weather_history_df = weather_data_prepare(weather_history_df)\n",
    "weather_history_df = weather_history_df.set_index('date_time')"
   ]
  },
  {
   "cell_type": "markdown",
   "id": "79893c9d-773c-484a-a750-8da233445739",
   "metadata": {},
   "source": [
    "### Keep most-relevant weather data"
   ]
  },
  {
   "cell_type": "code",
   "execution_count": 15,
   "id": "0d6a5ac6",
   "metadata": {},
   "outputs": [
    {
     "name": "stderr",
     "output_type": "stream",
     "text": [
      "<ipython-input-15-c4596c447ff8>:1: FutureWarning: In a future version of pandas all arguments of DataFrame.drop except for the argument 'labels' will be keyword-only\n",
      "  weather_forecast_df.drop(weather_forecast_df.columns.difference(['date_time','city','temp','dwpt','rhum','prcp','wspd']), 1, inplace=True)\n"
     ]
    },
    {
     "data": {
      "text/html": [
       "<div>\n",
       "<style scoped>\n",
       "    .dataframe tbody tr th:only-of-type {\n",
       "        vertical-align: middle;\n",
       "    }\n",
       "\n",
       "    .dataframe tbody tr th {\n",
       "        vertical-align: top;\n",
       "    }\n",
       "\n",
       "    .dataframe thead th {\n",
       "        text-align: right;\n",
       "    }\n",
       "</style>\n",
       "<table border=\"1\" class=\"dataframe\">\n",
       "  <thead>\n",
       "    <tr style=\"text-align: right;\">\n",
       "      <th></th>\n",
       "      <th>city</th>\n",
       "      <th>temp</th>\n",
       "      <th>dwpt</th>\n",
       "      <th>rhum</th>\n",
       "      <th>prcp</th>\n",
       "      <th>wspd</th>\n",
       "    </tr>\n",
       "    <tr>\n",
       "      <th>date_time</th>\n",
       "      <th></th>\n",
       "      <th></th>\n",
       "      <th></th>\n",
       "      <th></th>\n",
       "      <th></th>\n",
       "      <th></th>\n",
       "    </tr>\n",
       "  </thead>\n",
       "  <tbody>\n",
       "    <tr>\n",
       "      <th>2021-06-20 00:00:00</th>\n",
       "      <td>Abilene</td>\n",
       "      <td>28</td>\n",
       "      <td>14</td>\n",
       "      <td>46</td>\n",
       "      <td>0.0</td>\n",
       "      <td>27</td>\n",
       "    </tr>\n",
       "    <tr>\n",
       "      <th>2021-06-20 00:00:00</th>\n",
       "      <td>Austin</td>\n",
       "      <td>27</td>\n",
       "      <td>21</td>\n",
       "      <td>73</td>\n",
       "      <td>0.0</td>\n",
       "      <td>15</td>\n",
       "    </tr>\n",
       "    <tr>\n",
       "      <th>2021-06-20 00:00:00</th>\n",
       "      <td>Brownsville</td>\n",
       "      <td>28</td>\n",
       "      <td>24</td>\n",
       "      <td>77</td>\n",
       "      <td>0.0</td>\n",
       "      <td>20</td>\n",
       "    </tr>\n",
       "    <tr>\n",
       "      <th>2021-06-20 00:00:00</th>\n",
       "      <td>Corpus Christi</td>\n",
       "      <td>27</td>\n",
       "      <td>23</td>\n",
       "      <td>81</td>\n",
       "      <td>0.0</td>\n",
       "      <td>16</td>\n",
       "    </tr>\n",
       "    <tr>\n",
       "      <th>2021-06-20 00:00:00</th>\n",
       "      <td>Dallas</td>\n",
       "      <td>29</td>\n",
       "      <td>19</td>\n",
       "      <td>58</td>\n",
       "      <td>0.0</td>\n",
       "      <td>15</td>\n",
       "    </tr>\n",
       "    <tr>\n",
       "      <th>...</th>\n",
       "      <td>...</td>\n",
       "      <td>...</td>\n",
       "      <td>...</td>\n",
       "      <td>...</td>\n",
       "      <td>...</td>\n",
       "      <td>...</td>\n",
       "    </tr>\n",
       "    <tr>\n",
       "      <th>2021-07-03 21:00:00</th>\n",
       "      <td>Houston</td>\n",
       "      <td>30</td>\n",
       "      <td>22</td>\n",
       "      <td>62</td>\n",
       "      <td>0.0</td>\n",
       "      <td>19</td>\n",
       "    </tr>\n",
       "    <tr>\n",
       "      <th>2021-07-03 21:00:00</th>\n",
       "      <td>Midland</td>\n",
       "      <td>34</td>\n",
       "      <td>16</td>\n",
       "      <td>41</td>\n",
       "      <td>0.6</td>\n",
       "      <td>28</td>\n",
       "    </tr>\n",
       "    <tr>\n",
       "      <th>2021-07-03 21:00:00</th>\n",
       "      <td>San Antonio</td>\n",
       "      <td>34</td>\n",
       "      <td>21</td>\n",
       "      <td>59</td>\n",
       "      <td>0.0</td>\n",
       "      <td>33</td>\n",
       "    </tr>\n",
       "    <tr>\n",
       "      <th>2021-07-03 21:00:00</th>\n",
       "      <td>Tyler</td>\n",
       "      <td>30</td>\n",
       "      <td>20</td>\n",
       "      <td>54</td>\n",
       "      <td>0.0</td>\n",
       "      <td>24</td>\n",
       "    </tr>\n",
       "    <tr>\n",
       "      <th>2021-07-03 21:00:00</th>\n",
       "      <td>Wichita Falls</td>\n",
       "      <td>37</td>\n",
       "      <td>16</td>\n",
       "      <td>31</td>\n",
       "      <td>0.0</td>\n",
       "      <td>41</td>\n",
       "    </tr>\n",
       "  </tbody>\n",
       "</table>\n",
       "<p>1120 rows × 6 columns</p>\n",
       "</div>"
      ],
      "text/plain": [
       "                               city  temp  dwpt  rhum  prcp  wspd\n",
       "date_time                                                        \n",
       "2021-06-20 00:00:00         Abilene    28    14    46   0.0    27\n",
       "2021-06-20 00:00:00          Austin    27    21    73   0.0    15\n",
       "2021-06-20 00:00:00     Brownsville    28    24    77   0.0    20\n",
       "2021-06-20 00:00:00  Corpus Christi    27    23    81   0.0    16\n",
       "2021-06-20 00:00:00          Dallas    29    19    58   0.0    15\n",
       "...                             ...   ...   ...   ...   ...   ...\n",
       "2021-07-03 21:00:00         Houston    30    22    62   0.0    19\n",
       "2021-07-03 21:00:00         Midland    34    16    41   0.6    28\n",
       "2021-07-03 21:00:00     San Antonio    34    21    59   0.0    33\n",
       "2021-07-03 21:00:00           Tyler    30    20    54   0.0    24\n",
       "2021-07-03 21:00:00   Wichita Falls    37    16    31   0.0    41\n",
       "\n",
       "[1120 rows x 6 columns]"
      ]
     },
     "execution_count": 15,
     "metadata": {},
     "output_type": "execute_result"
    }
   ],
   "source": [
    "weather_forecast_df.drop(weather_forecast_df.columns.difference(['date_time','city','temp','dwpt','rhum','prcp','wspd']), 1, inplace=True)\n",
    "weather_forecast_df"
   ]
  },
  {
   "cell_type": "code",
   "execution_count": 16,
   "id": "17415248-1b26-41ac-b3f9-b94e04ca5539",
   "metadata": {},
   "outputs": [
    {
     "name": "stderr",
     "output_type": "stream",
     "text": [
      "<ipython-input-16-117b6efd70b0>:1: FutureWarning: In a future version of pandas all arguments of DataFrame.drop except for the argument 'labels' will be keyword-only\n",
      "  weather_history_df.drop(weather_history_df.columns.difference(['date_time','city','temp','dwpt','rhum','prcp','wspd']), 1, inplace=True)\n"
     ]
    }
   ],
   "source": [
    "weather_history_df.drop(weather_history_df.columns.difference(['date_time','city','temp','dwpt','rhum','prcp','wspd']), 1, inplace=True)"
   ]
  },
  {
   "cell_type": "code",
   "execution_count": 17,
   "id": "06a86dfb",
   "metadata": {},
   "outputs": [],
   "source": [
    "regions = ['Coast', 'East', 'Far West', 'North', 'North Central', 'South', 'South Central', 'West']\n",
    "cities = ['Houston', 'Tyler', 'Midland', 'Dallas', 'Wichita Falls', 'Corpus Christi', 'San Antonio', 'Abilene']"
   ]
  },
  {
   "cell_type": "code",
   "execution_count": 18,
   "id": "848ff75a",
   "metadata": {},
   "outputs": [],
   "source": [
    "def get_weather_city(df, city):\n",
    "    weather_df_city = df[df['city']==city]\n",
    "    weather_df_city = weather_df_city.resample(\"1H\", origin=datetime(2008,7,1,0)).mean().interpolate('linear').ffill()\n",
    "    return weather_df_city"
   ]
  },
  {
   "cell_type": "markdown",
   "id": "b9a37a6f",
   "metadata": {},
   "source": [
    "# Get history weather data from meteostat"
   ]
  },
  {
   "cell_type": "code",
   "execution_count": 19,
   "id": "1abf312c",
   "metadata": {},
   "outputs": [],
   "source": [
    "from meteostat import Point, Stations, Hourly"
   ]
  },
  {
   "cell_type": "code",
   "execution_count": 20,
   "id": "e14247de",
   "metadata": {},
   "outputs": [],
   "source": [
    "start = datetime(2008, 7, 1)\n",
    "end = datetime(2021, 6, 20, 4, 0)\n",
    "forecast_start = '2021-06-20 00:00:00'\n",
    "forecast_end = '2021-06-26 23:00:00'"
   ]
  },
  {
   "cell_type": "code",
   "execution_count": 21,
   "id": "61247360",
   "metadata": {},
   "outputs": [],
   "source": [
    "stations = {'Abilene':'72266', 'Austin':'72254', 'Brownsville':'72250', 'Corpus Christi':'72251', 'Dallas':'72259',\n",
    "       'Houston':'72243', 'Midland':'72265', 'San Antonio':'72253', 'Tyler':'KTYR0', 'Wichita Falls':'72351'}\n",
    "regions = {'Coast':'Houston', 'East':'Tyler', 'Far West':'Midland', 'North':'Wichita Falls',\n",
    "           'North Central':'Dallas', 'South':'Corpus Christi', 'South Central':'San Antonio', 'West':'Abilene'}"
   ]
  },
  {
   "cell_type": "code",
   "execution_count": 22,
   "id": "3139f827",
   "metadata": {},
   "outputs": [],
   "source": [
    "def get_weather_history_forecast(staion, city, start, end):\n",
    "    weather = Hourly(stations.get(city), start, end)\n",
    "    weather = weather.normalize()\n",
    "    weather = weather.fetch()\n",
    "    weather.drop(weather.columns.difference(['time','temp','rhum','dwpt','prcp','wspd']), 1, inplace=True)\n",
    "    weather = weather.fillna(method='ffill')\n",
    "    weather = weather.shift(-5) # a lag is needed to match with provided weather history data.\n",
    "    weather = weather.dropna()\n",
    "    weather.index.name='date_time'\n",
    "    # combine history and forecast weather data\n",
    "    forecast = get_weather_city(weather_forecast_df, city)\n",
    "    forecast = forecast[pd.Timestamp(forecast_start):pd.Timestamp(forecast_end)]\n",
    "    weather = pd.concat([weather, forecast], axis=0)\n",
    "    return weather"
   ]
  },
  {
   "cell_type": "code",
   "execution_count": 23,
   "id": "e7f43bf6",
   "metadata": {},
   "outputs": [
    {
     "name": "stderr",
     "output_type": "stream",
     "text": [
      "FutureWarning: In a future version of pandas all arguments of DataFrame.drop except for the argument 'labels' will be keyword-only\n"
     ]
    }
   ],
   "source": [
    "for city, station in stations.items():\n",
    "    weather = get_weather_history_forecast(station, city, start, end)\n",
    "    weather.to_csv('./data/weather_history_forecast_'+city+'.csv', index=True)"
   ]
  },
  {
   "cell_type": "markdown",
   "id": "a652b094-78e4-4b44-bae2-1284e08ee247",
   "metadata": {},
   "source": [
    "# Join load and weather data"
   ]
  },
  {
   "cell_type": "code",
   "execution_count": 24,
   "id": "029cbcb0-e3c5-4ab4-80bc-2c77a81b4ebe",
   "metadata": {},
   "outputs": [],
   "source": [
    "for region, city in regions.items():\n",
    "    load_data = pd.read_csv('./data/hourly_load_'+region+'.csv')\n",
    "    #load_data = load_data.set_index('date_time')\n",
    "    load_data.drop(['date_time'], axis=1, inplace=True)\n",
    "    weather_data = pd.read_csv('./data/weather_history_forecast_'+city+'.csv')\n",
    "    #weather_data = weather_data.set_index('date_time')\n",
    "    load_weather = weather_data.join(load_data)\n",
    "    #load_weather = load_weather.reset_index()\n",
    "    load_weather['date_time'] = load_weather['date_time'].apply(lambda x: datetime.fromtimestamp(datetime.strptime(str(x), '%Y-%m-%d %H:%M:%S').timestamp()))\n",
    "    load_weather['year'] = load_weather['date_time'].apply(lambda x: x.year)\n",
    "    load_weather['month'] = load_weather['date_time'].apply(lambda x: x.month)\n",
    "    load_weather['day'] = load_weather['date_time'].apply(lambda x: x.day)\n",
    "    load_weather['hour'] = load_weather['date_time'].apply(lambda x: x.hour)\n",
    "    load_weather['dayofyear'] = load_weather['date_time'].apply(lambda x: x.dayofyear)\n",
    "    load_weather['weekofyear'] = load_weather['date_time'].apply(lambda x: x.weekofyear)\n",
    "    load_weather['weekday'] = load_weather['date_time'].apply(lambda x: x.weekday())\n",
    "    load_weather = load_weather.set_index('date_time')\n",
    "    load_weather.to_csv('./data/load_weather_'+region+'.csv', index=True)"
   ]
  },
  {
   "cell_type": "markdown",
   "id": "95d2b604-391b-473c-9d28-6f922754d544",
   "metadata": {},
   "source": []
  }
 ],
 "metadata": {
  "interpreter": {
   "hash": "b86c7f8e6efeb84f7eb573d5202840b27b42fcd7174dc6bf38840e79882556f6"
  },
  "kernelspec": {
   "display_name": "Python 3",
   "language": "python",
   "name": "python3"
  },
  "language_info": {
   "codemirror_mode": {
    "name": "ipython",
    "version": 3
   },
   "file_extension": ".py",
   "mimetype": "text/x-python",
   "name": "python",
   "nbconvert_exporter": "python",
   "pygments_lexer": "ipython3",
   "version": "3.8.10"
  }
 },
 "nbformat": 4,
 "nbformat_minor": 5
}
